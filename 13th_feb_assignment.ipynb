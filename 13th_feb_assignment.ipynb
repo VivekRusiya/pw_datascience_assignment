{
 "cells": [
  {
   "cell_type": "code",
   "execution_count": null,
   "id": "9e74dc56-a7c6-44a2-ac4d-417433bc6b24",
   "metadata": {},
   "outputs": [],
   "source": [
    "#Question-1\n",
    "\"\"\"\n",
    "Superclass Exceptions are created when a module needs to handle several distinct errors.\n",
    "while creting custom exception needs to inherit in built class Exception.\n",
    "1)To improve readability of your code.\n",
    "2)To enhance reusability of features.\n",
    "3)To provide custom messages/instructions to users for specific use cases.\n",
    "\"\"\"\n"
   ]
  },
  {
   "cell_type": "code",
   "execution_count": 4,
   "id": "940db346-6262-42bb-8522-130f59c04073",
   "metadata": {},
   "outputs": [
    {
     "name": "stdout",
     "output_type": "stream",
     "text": [
      "Hierarchy for Built-in exceptions is : \n"
     ]
    }
   ],
   "source": [
    "#Question-2\n",
    "import inspect\n",
    "\n",
    "def treeClass(cls, ind = 0):\n",
    "\tprint ('-' * ind, cls.__name__)\n",
    "\tfor i in cls.__subclasses__():\n",
    "\t\ttreeClass(i, ind + 3)\n",
    "print(\"Hierarchy for Built-in exceptions is : \")\n",
    "\n",
    "treeClass(BaseException)\n"
   ]
  },
  {
   "cell_type": "code",
   "execution_count": 9,
   "id": "b60a1745-abd4-4617-b9bf-122adae35dd5",
   "metadata": {},
   "outputs": [
    {
     "ename": "ZeroDivisionError",
     "evalue": "",
     "output_type": "error",
     "traceback": [
      "\u001b[0;31m---------------------------------------------------------------------------\u001b[0m",
      "\u001b[0;31mZeroDivisionError\u001b[0m                         Traceback (most recent call last)",
      "Cell \u001b[0;32mIn[9], line 13\u001b[0m, in \u001b[0;36merror_1\u001b[0;34m(x, y)\u001b[0m\n\u001b[1;32m     12\u001b[0m \u001b[38;5;28;01mtry\u001b[39;00m:\n\u001b[0;32m---> 13\u001b[0m     var_1\u001b[38;5;241m=\u001b[39m \u001b[43mx\u001b[49m\u001b[38;5;241;43m/\u001b[39;49m\u001b[43my\u001b[49m\n\u001b[1;32m     14\u001b[0m     \u001b[38;5;28mprint\u001b[39m(var_1)\n",
      "\u001b[0;31mZeroDivisionError\u001b[0m: division by zero",
      "\nDuring handling of the above exception, another exception occurred:\n",
      "\u001b[0;31mZeroDivisionError\u001b[0m                         Traceback (most recent call last)",
      "Cell \u001b[0;32mIn[9], line 18\u001b[0m\n\u001b[1;32m     16\u001b[0m         \u001b[38;5;28;01mraise\u001b[39;00m \u001b[38;5;167;01mZeroDivisionError\u001b[39;00m\n\u001b[1;32m     17\u001b[0m \u001b[38;5;66;03m# calling error_1  \u001b[39;00m\n\u001b[0;32m---> 18\u001b[0m \u001b[43merror_1\u001b[49m\u001b[43m(\u001b[49m\u001b[38;5;241;43m1\u001b[39;49m\u001b[43m,\u001b[49m\u001b[38;5;241;43m0\u001b[39;49m\u001b[43m)\u001b[49m\n\u001b[1;32m     20\u001b[0m \u001b[38;5;66;03m# example-2\u001b[39;00m\n\u001b[1;32m     21\u001b[0m \u001b[38;5;28;01mdef\u001b[39;00m \u001b[38;5;21merror_2\u001b[39m(n):\n",
      "Cell \u001b[0;32mIn[9], line 16\u001b[0m, in \u001b[0;36merror_1\u001b[0;34m(x, y)\u001b[0m\n\u001b[1;32m     14\u001b[0m     \u001b[38;5;28mprint\u001b[39m(var_1)\n\u001b[1;32m     15\u001b[0m \u001b[38;5;28;01mexcept\u001b[39;00m \u001b[38;5;167;01mZeroDivisionError\u001b[39;00m:\n\u001b[0;32m---> 16\u001b[0m     \u001b[38;5;28;01mraise\u001b[39;00m \u001b[38;5;167;01mZeroDivisionError\u001b[39;00m\n",
      "\u001b[0;31mZeroDivisionError\u001b[0m: "
     ]
    }
   ],
   "source": [
    "#Question-3\n",
    "\"\"\"\n",
    "ArithmeticError types in Python include:\n",
    "\n",
    "OverFlowError\n",
    "ZeroDivisionError\n",
    "FloatingPointError\n",
    "\"\"\"\n",
    "\n",
    "#example-1\n",
    "def error_1(x,y):\n",
    "    try:\n",
    "        var_1= x/y\n",
    "        print(var_1)\n",
    "    except ZeroDivisionError:\n",
    "        raise ZeroDivisionError\n",
    "# calling error_1  \n",
    "error_1(1,0)\n",
    "\n",
    "# example-2\n",
    "def error_2(n):\n",
    "    j = 5.0\n",
    "    try:\n",
    "        for i in range(1, n):\n",
    "            j = j**i\n",
    "    except OverFlowError as e:\n",
    "        raise OverFlowError\n",
    "     \n",
    "#calling error_2\n",
    "error_2(1000)"
   ]
  },
  {
   "cell_type": "code",
   "execution_count": 10,
   "id": "7f567c7f-b8e9-4e5d-a487-05555153f71d",
   "metadata": {},
   "outputs": [
    {
     "name": "stdout",
     "output_type": "stream",
     "text": [
      "Key Error Exception Raised.\n",
      "Index Error Exception Raised, list index out of range\n"
     ]
    }
   ],
   "source": [
    "#Question-4\n",
    "\"\"\"\n",
    "Lookup Error acts as a base class for the exceptions that occur\n",
    "when a key or index used on a mapping or sequence of a list/dictionary is invalid or does not exists.\n",
    "\n",
    "The two types of exceptions raised are:\n",
    "IndexError\n",
    "KeyError\n",
    "\"\"\"\n",
    "# example\n",
    "try:  \n",
    "    a = {1:'a', 2:'b', 3:'c'}  \n",
    "    print (a[4])  \n",
    "except LookupError:  \n",
    "    print (\"Key Error Exception Raised.\")\n",
    "else:  \n",
    "    print (\"Success, no error!\")\n",
    "    \n",
    "# example-2\n",
    "try:  \n",
    "    a = ['a', 'b', 'c']  \n",
    "    print (a[4])  \n",
    "except LookupError:  \n",
    "    print (\"Index Error Exception Raised, list index out of range\")\n",
    "else:  \n",
    "    print (\"Success, no error!\")\n",
    "\n"
   ]
  },
  {
   "cell_type": "code",
   "execution_count": 13,
   "id": "14a62841-f027-40c5-97fc-9a6d4ceb1b35",
   "metadata": {},
   "outputs": [
    {
     "name": "stdout",
     "output_type": "stream",
     "text": [
      "cannot import name 'datetime' from 'time' (unknown location)\n"
     ]
    }
   ],
   "source": [
    "#Question-5\n",
    "\n",
    "# ImportError- The ImportError is raised when an import statement has trouble successfully importing the specified module\n",
    "\n",
    "import sys\n",
    "try:\n",
    "    from time import datetime\n",
    "except Exception as e:\n",
    "    print (e)\n",
    "    \n",
    "  \n",
    "#ModuleNotFoundError-this error occurs when we are trying to access or use a module that cannot be found\n",
    "\n",
    "\n"
   ]
  }
 ],
 "metadata": {
  "kernelspec": {
   "display_name": "Python 3 (ipykernel)",
   "language": "python",
   "name": "python3"
  },
  "language_info": {
   "codemirror_mode": {
    "name": "ipython",
    "version": 3
   },
   "file_extension": ".py",
   "mimetype": "text/x-python",
   "name": "python",
   "nbconvert_exporter": "python",
   "pygments_lexer": "ipython3",
   "version": "3.10.8"
  }
 },
 "nbformat": 4,
 "nbformat_minor": 5
}
