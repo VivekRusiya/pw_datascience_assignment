{
 "cells": [
  {
   "cell_type": "code",
   "execution_count": null,
   "id": "6032fea0-abaa-445b-88ab-7bc8f230dd55",
   "metadata": {},
   "outputs": [],
   "source": [
    "#Questin-1\n",
    "Multithreading is defined as the ability of a processor to execute multiple threads concurrently."
   ]
  }
 ],
 "metadata": {
  "kernelspec": {
   "display_name": "Python 3 (ipykernel)",
   "language": "python",
   "name": "python3"
  },
  "language_info": {
   "codemirror_mode": {
    "name": "ipython",
    "version": 3
   },
   "file_extension": ".py",
   "mimetype": "text/x-python",
   "name": "python",
   "nbconvert_exporter": "python",
   "pygments_lexer": "ipython3",
   "version": "3.10.8"
  }
 },
 "nbformat": 4,
 "nbformat_minor": 5
}
