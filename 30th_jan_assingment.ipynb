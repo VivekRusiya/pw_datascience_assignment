{
 "cells": [
  {
   "cell_type": "code",
   "execution_count": 8,
   "id": "1f718d39-e809-43a4-ad51-ac82ff027983",
   "metadata": {},
   "outputs": [
    {
     "name": "stdin",
     "output_type": "stream",
     "text": [
      "enter the percentage 59\n"
     ]
    },
    {
     "name": "stdout",
     "output_type": "stream",
     "text": [
      "Grade D\n"
     ]
    }
   ],
   "source": [
    "# assignment 2\n",
    "#Question 1\n",
    "marks = int(input(\"enter the marks\"))\n",
    "if marks > 90:\n",
    "    print(\"Grade A\")\n",
    "elif marks > 80 and marks <= 90:\n",
    "    print(\"Grade B\")\n",
    "elif marks >= 60 and marks <= 80:\n",
    "    print(\"Grade C\")\n",
    "else:\n",
    "    print(\"Grade D\")\n"
   ]
  },
  {
   "cell_type": "code",
   "execution_count": 13,
   "id": "4baf1630-d52b-4b3b-b651-3aa992e65e90",
   "metadata": {},
   "outputs": [
    {
     "name": "stdin",
     "output_type": "stream",
     "text": [
      "Enter the cost price of bike 999990\n"
     ]
    },
    {
     "name": "stdout",
     "output_type": "stream",
     "text": [
      "tax to be paid is: 15%\n"
     ]
    }
   ],
   "source": [
    "#Question-2\n",
    "cost_price = int(input(\"Enter the cost price of bike\"))\n",
    "if cost_price > 100000:\n",
    "    print(\"tax to be paid is: 15%\")\n",
    "elif cost_price > 50000 and cost_price<= 100000:\n",
    "    print(\"tax to be paid is: 10%\")\n",
    "elif cost_price <= 50000:\n",
    "    print(\"tax to be paid is: 5%\")"
   ]
  },
  {
   "cell_type": "code",
   "execution_count": 18,
   "id": "b469575f-64a1-41a6-8562-55ab65ab066d",
   "metadata": {},
   "outputs": [
    {
     "name": "stdin",
     "output_type": "stream",
     "text": [
      "enter the city Delhi\n"
     ]
    },
    {
     "name": "stdout",
     "output_type": "stream",
     "text": [
      "Monument: RED FORT\n"
     ]
    }
   ],
   "source": [
    "#Question-3\n",
    "city = input(\"enter the city\")\n",
    "if city == 'Delhi':\n",
    "    print(\"Monument: RED FORT\")\n",
    "elif city == 'Agra' :\n",
    "    print(\"Monument: TAJ MAHAL\")\n",
    "elif city =='Jaipur':\n",
    "    print(\"Monument: JAI MAHAL\")\n",
    "\n"
   ]
  },
  {
   "cell_type": "code",
   "execution_count": 2,
   "id": "5c932fb4-5ecb-4a56-a0cb-3c777f715f97",
   "metadata": {},
   "outputs": [
    {
     "name": "stdin",
     "output_type": "stream",
     "text": [
      "enter number  999\n"
     ]
    },
    {
     "name": "stdout",
     "output_type": "stream",
     "text": [
      "3\n"
     ]
    }
   ],
   "source": [
    "#Question-4\n",
    "number = int(input(\"enter number \"))\n",
    "counter = 0\n",
    "while number%3 == 0:\n",
    "    number = number/3\n",
    "    counter = counter + 1\n",
    "print(counter)"
   ]
  },
  {
   "cell_type": "code",
   "execution_count": null,
   "id": "fda518ac-e06e-4562-9f9d-bc59421b5594",
   "metadata": {},
   "outputs": [],
   "source": [
    "#Question-5\n",
    "\n",
    "#while loop is used to run a block code until a certain condition is met.\n",
    "# A while loop evaluates the condition\n",
    "# If the condition evaluates to True, the code inside the while loop is executed.\n",
    "# condition is evaluated again.\n",
    "# This process continues until the condition is False.\n",
    "# When condition evaluates to False, the loop stops.\n",
    "\n",
    "i = 1\n",
    "n = 4\n",
    "while i <= n:\n",
    "    print(i)\n",
    "    i = i + 1"
   ]
  },
  {
   "cell_type": "code",
   "execution_count": null,
   "id": "e20595cf-af7f-4439-a6de-0f2901facc56",
   "metadata": {},
   "outputs": [],
   "source": []
  },
  {
   "cell_type": "code",
   "execution_count": 2,
   "id": "b9b3b276-5256-4eb2-968d-c68922186d64",
   "metadata": {},
   "outputs": [
    {
     "name": "stdout",
     "output_type": "stream",
     "text": [
      "10\n",
      "9\n",
      "8\n",
      "7\n",
      "6\n",
      "5\n",
      "4\n",
      "3\n",
      "2\n",
      "1\n"
     ]
    }
   ],
   "source": [
    "#Question-7\n",
    "\n",
    "number = 10\n",
    "while number >= 1:\n",
    "    print(number)\n",
    "    number = number - 1"
   ]
  },
  {
   "cell_type": "code",
   "execution_count": null,
   "id": "9bc814b6-01ba-47a4-b7ac-f1d7e508be48",
   "metadata": {},
   "outputs": [],
   "source": []
  }
 ],
 "metadata": {
  "kernelspec": {
   "display_name": "Python 3 (ipykernel)",
   "language": "python",
   "name": "python3"
  },
  "language_info": {
   "codemirror_mode": {
    "name": "ipython",
    "version": 3
   },
   "file_extension": ".py",
   "mimetype": "text/x-python",
   "name": "python",
   "nbconvert_exporter": "python",
   "pygments_lexer": "ipython3",
   "version": "3.10.8"
  }
 },
 "nbformat": 4,
 "nbformat_minor": 5
}
