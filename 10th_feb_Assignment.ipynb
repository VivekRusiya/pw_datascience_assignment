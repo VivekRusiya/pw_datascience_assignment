{
 "cells": [
  {
   "cell_type": "code",
   "execution_count": 2,
   "id": "e9ba9dc6-d5eb-4dba-872f-b94e16e9dbf0",
   "metadata": {},
   "outputs": [
    {
     "data": {
      "text/plain": [
       "'\\nRead Only (‘r’) : Open text file for reading. This is also the default mode in which a file is opened.\\nRead and Write (‘r+’): Open the file for reading and writing.\\nWrite Only (‘w’) : Open the file for writing. For the existing files, the data is truncated and over-written.It Creates the file if the file does not exist.\\nWrite and Read (‘w+’) : Open the file for reading and writing. For an existing file, data is truncated and over-written.\\nAppend Only (‘a’): Open the file for writing. The file is created if it does not exist. The data being written will be inserted at the end, after the existing data.\\nAppend and Read (‘a+’) : Open the file for reading and writing. The file is created if it does not exist. The data being written will be inserted at the end, after the existing data.\\n'"
      ]
     },
     "execution_count": 2,
     "metadata": {},
     "output_type": "execute_result"
    }
   ],
   "source": [
    "#Question-1\n",
    "\"\"\"open() function is use to open file\"\"\"\n",
    "\"\"\"\n",
    "Read Only (‘r’) : Open text file for reading. This is also the default mode in which a file is opened.\n",
    "Read and Write (‘r+’): Open the file for reading and writing.\n",
    "Write Only (‘w’) : Open the file for writing. For the existing files, the data is truncated and over-written.It Creates the file if the file does not exist.\n",
    "Write and Read (‘w+’) : Open the file for reading and writing. For an existing file, data is truncated and over-written.\n",
    "Append Only (‘a’): Open the file for writing. The file is created if it does not exist. The data being written will be inserted at the end, after the existing data.\n",
    "Append and Read (‘a+’) : Open the file for reading and writing. The file is created if it does not exist. The data being written will be inserted at the end, after the existing data.\n",
    "\"\"\"\n",
    "\n",
    "#example\n",
    "# f = open(file_name, mode)"
   ]
  },
  {
   "cell_type": "code",
   "execution_count": null,
   "id": "42914c14-da1a-4d7d-aad1-c51fc1476c96",
   "metadata": {},
   "outputs": [],
   "source": [
    "#Question-2\n",
    "\"\"\"\n",
    "The close() method closes an open file.\n",
    "open file should be close, in some cases, \n",
    "due to buffering, changes made to a file may not show until you close the file.\n",
    "\"\"\"\n",
    "#example\n",
    "# file.close()"
   ]
  },
  {
   "cell_type": "code",
   "execution_count": 4,
   "id": "3bf50d29-07ec-42a1-936e-ee79649ee1ee",
   "metadata": {},
   "outputs": [],
   "source": [
    "#Question-3\n",
    "with open(\"test.txt\",'w') as f:\n",
    "    f.write(\" ‘I want to become a Data Scientist\")\n",
    "    f.close()\n",
    "    "
   ]
  },
  {
   "cell_type": "code",
   "execution_count": 6,
   "id": "7078ab3a-285c-4bf5-886b-6bbea0d460e6",
   "metadata": {},
   "outputs": [
    {
     "name": "stdout",
     "output_type": "stream",
     "text": [
      " ‘I want to become a Data Scientist\n"
     ]
    }
   ],
   "source": [
    "with open(\"test.txt\",'r') as f:\n",
    "    print(f.read())\n",
    "        "
   ]
  },
  {
   "cell_type": "code",
   "execution_count": null,
   "id": "ad3337c4-c95d-48c3-8f48-abe4f9583ecf",
   "metadata": {},
   "outputs": [],
   "source": [
    "#Question-4\n",
    "\n",
    "\"\"\"\n",
    "read()\n",
    "The read() method returns the specified number of bytes from the file. \n",
    "Default is -1 which means the whole file.\n",
    "\"\"\"\n",
    "\n",
    "\"\"\"\n",
    "This method will read the entire content of the file at a time.\n",
    "This method reads all the file content and stores it in the list.\n",
    "This method reads up to the end of the line with readline () and returns a list.\"\"\"\n",
    "\n",
    "\"\"\"\n",
    "Python readline() method reads only one complete line from the file given.\n",
    "It appends a newline (“\\n”) at the end of the line.\n",
    "If we open the file in normal read mode, readline() will return you the string.\n",
    "If we open the file in binary mode, readline() will return you binary object.\n",
    "we can give size as an argument to readline(), \n",
    "and it will get the line as per the size given inclusive of the newline. By default, the size is 0, \n",
    "and it returns the entire line.\n",
    "\"\"\"\n",
    "#file.readline(size)\n",
    "\n",
    "\n"
   ]
  },
  {
   "cell_type": "code",
   "execution_count": 9,
   "id": "279fb986-2bc9-4fac-ac46-af2fc9cd5296",
   "metadata": {},
   "outputs": [
    {
     "name": "stdout",
     "output_type": "stream",
     "text": [
      " ‘I want to become a Data Scientist\n"
     ]
    }
   ],
   "source": [
    "#Question-5\n",
    "\"\"\"\n",
    "The with statement works with the open() function to open a file\n",
    "open() where we have to close the file with the close() method,\n",
    "the with statement closes the file without using close().\n",
    "with statement is used in exception handling to make the code cleaner and much more readable.\n",
    "\"\"\"\n",
    "#exammple\n",
    "with open('test.txt', 'r') as file:\n",
    "    print(file.read())"
   ]
  },
  {
   "cell_type": "code",
   "execution_count": 10,
   "id": "bd935723-6eed-4431-9dbe-f204519f3a3d",
   "metadata": {},
   "outputs": [
    {
     "name": "stdin",
     "output_type": "stream",
     "text": [
      "Enter the name of the employee:  vivek\n",
      "Enter the name of the employee:  rusiya\n",
      "Enter the name of the employee:  ds\n"
     ]
    },
    {
     "ename": "NameError",
     "evalue": "name 'file1' is not defined",
     "output_type": "error",
     "traceback": [
      "\u001b[0;31m---------------------------------------------------------------------------\u001b[0m",
      "\u001b[0;31mNameError\u001b[0m                                 Traceback (most recent call last)",
      "Cell \u001b[0;32mIn[10], line 20\u001b[0m\n\u001b[1;32m     17\u001b[0m     name \u001b[38;5;241m=\u001b[39m \u001b[38;5;28minput\u001b[39m(\u001b[38;5;124m\"\u001b[39m\u001b[38;5;124mEnter the name of the employee: \u001b[39m\u001b[38;5;124m\"\u001b[39m)\n\u001b[1;32m     18\u001b[0m     lst\u001b[38;5;241m.\u001b[39mappend(name \u001b[38;5;241m+\u001b[39m \u001b[38;5;124m'\u001b[39m\u001b[38;5;130;01m\\n\u001b[39;00m\u001b[38;5;124m'\u001b[39m)\n\u001b[0;32m---> 20\u001b[0m \u001b[43mfile1\u001b[49m\u001b[38;5;241m.\u001b[39mwritelines(lst)\n\u001b[1;32m     21\u001b[0m \u001b[38;5;28mprint\u001b[39m(\u001b[38;5;124m\"\u001b[39m\u001b[38;5;124mData is written into the file.\u001b[39m\u001b[38;5;124m\"\u001b[39m)\n",
      "\u001b[0;31mNameError\u001b[0m: name 'file1' is not defined"
     ]
    }
   ],
   "source": [
    "#Question-6\n",
    "\"\"\"\n",
    "write() is used to write a string to an already opened file.\n",
    "writelines() method is used to write a list of strings in an opened file\n",
    "\"\"\"\n",
    "#example write()\n",
    "\"\"\"\n",
    "with open(\"test.txt\",'w') as f:\n",
    "    f.write(\" ‘I want to become a Data Scientist\")\n",
    "    f.close()\n",
    "\"\"\"\n",
    "\n",
    "#example writlines()\n",
    "with open(\"test.txt\", \"w\") as file:\n",
    "    lst = []\n",
    "    for i in range(3):\n",
    "        name = input(\"Enter the name of the employee: \")\n",
    "        lst.append(name + '\\n')\n",
    "\n",
    "    file1.writelines(lst)\n",
    "    print(\"Data is written into the file.\")\n",
    "\n",
    "\n",
    "\n",
    " \n",
    "\n"
   ]
  },
  {
   "cell_type": "code",
   "execution_count": null,
   "id": "141742fe-5c25-46a3-b005-509725a951c8",
   "metadata": {},
   "outputs": [],
   "source": []
  }
 ],
 "metadata": {
  "kernelspec": {
   "display_name": "Python 3 (ipykernel)",
   "language": "python",
   "name": "python3"
  },
  "language_info": {
   "codemirror_mode": {
    "name": "ipython",
    "version": 3
   },
   "file_extension": ".py",
   "mimetype": "text/x-python",
   "name": "python",
   "nbconvert_exporter": "python",
   "pygments_lexer": "ipython3",
   "version": "3.10.8"
  }
 },
 "nbformat": 4,
 "nbformat_minor": 5
}
