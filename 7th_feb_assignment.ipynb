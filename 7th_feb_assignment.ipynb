{
 "cells": [
  {
   "cell_type": "code",
   "execution_count": null,
   "id": "f228c581-c485-4fd5-adb7-3cff08487d5e",
   "metadata": {},
   "outputs": [],
   "source": [
    "#Question-1\n",
    "import re\n",
    "def password_validator(password):    \n",
    "    pwd = password\n",
    "    if re.fullmatch(r'[{2,}A-Z{2,0}a-z{2,0}0-9{3}@#$%^&+=]{10,}', pwd):\n",
    "        print(\"Valid Password\")\n",
    "    else:\n",
    "        print(\"Invalid Password\")\n"
   ]
  },
  {
   "cell_type": "code",
   "execution_count": 22,
   "id": "94c9d790-1d00-41d5-be4a-4a3f1f48bd09",
   "metadata": {},
   "outputs": [
    {
     "data": {
      "text/plain": [
       "False"
      ]
     },
     "execution_count": 22,
     "metadata": {},
     "output_type": "execute_result"
    }
   ],
   "source": [
    "#Question-2\n",
    "#Check if the string starts with a particular letterY\n",
    "string = lambda x : (x.startswith(\"H\") or x.isnumeric())\n",
    "string(\"67hh8\")"
   ]
  },
  {
   "cell_type": "code",
   "execution_count": 1,
   "id": "d84f89f9-48ad-430c-a7b4-1c350586ab18",
   "metadata": {},
   "outputs": [
    {
     "data": {
      "text/plain": [
       "False"
      ]
     },
     "execution_count": 1,
     "metadata": {},
     "output_type": "execute_result"
    }
   ],
   "source": [
    "#Check if the string is numericY\n",
    "string = lambda x : (x.isnumeric())\n",
    "string(\"67hh8\")"
   ]
  },
  {
   "cell_type": "code",
   "execution_count": 30,
   "id": "902c077c-332b-4974-bfc9-d7e2945de727",
   "metadata": {},
   "outputs": [
    {
     "data": {
      "text/plain": [
       "[1, 4, 9, 16, 25, 36, 49, 64, 81, 100]"
      ]
     },
     "execution_count": 30,
     "metadata": {},
     "output_type": "execute_result"
    }
   ],
   "source": [
    "#Find the squares of numbers from 1 to 10Y\n",
    "sq = [i**2 for i in range(1,11)]\n",
    "sq"
   ]
  },
  {
   "cell_type": "code",
   "execution_count": 31,
   "id": "6f69163d-3aaf-4b73-8be4-6f9d19fb4797",
   "metadata": {},
   "outputs": [
    {
     "data": {
      "text/plain": [
       "[1, 8, 27, 64, 125, 216, 343, 512, 729, 1000]"
      ]
     },
     "execution_count": 31,
     "metadata": {},
     "output_type": "execute_result"
    }
   ],
   "source": [
    "#Find the cube root of numbers from 1 to 10Y\n",
    "cube = [i**3 for i in range(1,11)]\n",
    "cube"
   ]
  },
  {
   "cell_type": "code",
   "execution_count": 36,
   "id": "8c3de829-4313-4dac-8a0a-4c9c34fed2bb",
   "metadata": {},
   "outputs": [
    {
     "data": {
      "text/plain": [
       "True"
      ]
     },
     "execution_count": 36,
     "metadata": {},
     "output_type": "execute_result"
    }
   ],
   "source": [
    "#Check if a given number is evenY\n",
    "even = lambda x : x%2 == 0\n",
    "even(4)"
   ]
  },
  {
   "cell_type": "code",
   "execution_count": 40,
   "id": "b14de0eb-0d82-4285-8344-5f8d44125f20",
   "metadata": {},
   "outputs": [
    {
     "data": {
      "text/plain": [
       "[1, 3, 5, 7, 9]"
      ]
     },
     "execution_count": 40,
     "metadata": {},
     "output_type": "execute_result"
    }
   ],
   "source": [
    "#Filter odd numbers from the given list.\n",
    "l3 = [1,2,3,4,5,6,7,8,9,10]\n",
    "[i for i in range(1,len(l3),2)]"
   ]
  },
  {
   "cell_type": "code",
   "execution_count": 44,
   "id": "ae384088-4067-4df0-a4d3-461541005030",
   "metadata": {},
   "outputs": [
    {
     "name": "stdout",
     "output_type": "stream",
     "text": [
      "[('orange', 80), ('mango', 99), ('grapes', 1000)]\n"
     ]
    }
   ],
   "source": [
    "#Sort a list of tuples having fruit names and their quantity. [(\"mango\",99),(\"orange\",80), (\"grapes\", 1000)-\n",
    "list_of_tuple = [(\"mango\",99),(\"orange\",80), (\"grapes\", 1000)]\n",
    "sort = sorted(list_of_tuple, key = lambda x : x[1])\n",
    "print(sort)"
   ]
  },
  {
   "cell_type": "code",
   "execution_count": 49,
   "id": "7ee9059a-1c7d-4e95-8263-0c0ea1e97e1f",
   "metadata": {},
   "outputs": [
    {
     "data": {
      "text/plain": [
       "[-5, -4, -3, -2, -1, 0, 1, 2, 3, 4, 5, 6]"
      ]
     },
     "execution_count": 49,
     "metadata": {},
     "output_type": "execute_result"
    }
   ],
   "source": [
    "#Sort a list of integers into positive and negative integers lists.\n",
    "list = [1,2,3,4,5,6,-1,-2,-3,-4,-5,0]\n",
    "sorted(list)\n"
   ]
  }
 ],
 "metadata": {
  "kernelspec": {
   "display_name": "Python 3 (ipykernel)",
   "language": "python",
   "name": "python3"
  },
  "language_info": {
   "codemirror_mode": {
    "name": "ipython",
    "version": 3
   },
   "file_extension": ".py",
   "mimetype": "text/x-python",
   "name": "python",
   "nbconvert_exporter": "python",
   "pygments_lexer": "ipython3",
   "version": "3.10.8"
  }
 },
 "nbformat": 4,
 "nbformat_minor": 5
}
