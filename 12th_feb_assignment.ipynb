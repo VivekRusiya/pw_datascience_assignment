{
 "cells": [
  {
   "cell_type": "code",
   "execution_count": null,
   "id": "e85eca1e-9afb-4292-bfca-b2b8f9af1e9b",
   "metadata": {},
   "outputs": [],
   "source": [
    "#Question-1\n",
    "\"\"\"\n",
    "Exception can refer to any situation and condition that does not go with the normal flow of the program \n",
    "and thus have a tendency to halt the execution of the program in between.\n",
    "example-\n",
    "1) ZeroDivisionError\n",
    "2) NameError\n",
    "3) IO Error\n",
    "\"\"\"\n",
    "\n",
    "# Syntax Error\n",
    "\"\"\"\n",
    "1) A syntax error occurs when the structure of a program does not conform to the rules of \n",
    "the programming language.\n",
    "2) Syntax errors are usually detected by the compiler or interpreter when \n",
    "the program is being compiled or executed.\n",
    "3) Syntax errors are usually caused by mistakes in the source code, \n",
    "such as typos, omissions, or incorrect use of syntax.\n",
    "\"\"\"\n",
    "#Exception\n",
    "\"\"\"\n",
    "1)An exception is an abnormal event that occurs during the execution of a program. \n",
    "2)Exceptions are usually caused by runtime errors, such as dividing by zero, \n",
    "trying to access an element in an array with an out-of-bounds index,\n",
    "or trying to access a file that does not exist.\n",
    "3)Exceptions are not syntax errors, but they can still prevent the program from running \n",
    "if they are not handled properly.\n",
    "\"\"\""
   ]
  },
  {
   "cell_type": "code",
   "execution_count": 1,
   "id": "5722a430-b7dc-416e-b13a-3f613c9aa3d1",
   "metadata": {},
   "outputs": [
    {
     "ename": "ZeroDivisionError",
     "evalue": "division by zero",
     "output_type": "error",
     "traceback": [
      "\u001b[0;31m---------------------------------------------------------------------------\u001b[0m",
      "\u001b[0;31mZeroDivisionError\u001b[0m                         Traceback (most recent call last)",
      "Cell \u001b[0;32mIn[1], line 8\u001b[0m\n\u001b[1;32m      6\u001b[0m \u001b[38;5;66;03m# Example\u001b[39;00m\n\u001b[1;32m      7\u001b[0m var_1 \u001b[38;5;241m=\u001b[39m \u001b[38;5;241m10\u001b[39m\n\u001b[0;32m----> 8\u001b[0m \u001b[38;5;28mprint\u001b[39m(\u001b[38;5;241;43m10\u001b[39;49m\u001b[38;5;241;43m/\u001b[39;49m\u001b[38;5;241;43m0\u001b[39;49m)\n",
      "\u001b[0;31mZeroDivisionError\u001b[0m: division by zero"
     ]
    }
   ],
   "source": [
    "#Question-2\n",
    "\"\"\"\n",
    "If the exception is not handled by the program, the exception is raised .\n",
    "by in built or user defined function.\n",
    "\"\"\"\n",
    "# Example\n",
    "var_1 = 10\n",
    "print(10/0)\n"
   ]
  },
  {
   "cell_type": "code",
   "execution_count": 3,
   "id": "54e76f1f-cc8f-4a47-9e2b-64d126d8913d",
   "metadata": {},
   "outputs": [
    {
     "name": "stdout",
     "output_type": "stream",
     "text": [
      "number can not be divisible by 0\n"
     ]
    }
   ],
   "source": [
    "#Question-3\n",
    "\"\"\"\n",
    "try and except block is used to catch and handle the exception in python\n",
    "\"\"\"\n",
    "# example\n",
    "try:\n",
    "    var_1 = 10\n",
    "    var_2 = 10/0\n",
    "    print(var_2)\n",
    "except:\n",
    "    print(\"number can not be divisible by 0\")"
   ]
  },
  {
   "cell_type": "code",
   "execution_count": 20,
   "id": "ef19af72-64fb-4674-9822-6b732949b9fc",
   "metadata": {},
   "outputs": [
    {
     "name": "stdout",
     "output_type": "stream",
     "text": [
      "Your answer is : 10\n",
      "Your answer is : 2\n",
      "finally its executed\n"
     ]
    },
    {
     "ename": "ZeroDivisionError",
     "evalue": "",
     "output_type": "error",
     "traceback": [
      "\u001b[0;31m---------------------------------------------------------------------------\u001b[0m",
      "\u001b[0;31mZeroDivisionError\u001b[0m                         Traceback (most recent call last)",
      "Cell \u001b[0;32mIn[20], line 41\u001b[0m, in \u001b[0;36mdivide_3\u001b[0;34m(x, y)\u001b[0m\n\u001b[1;32m     40\u001b[0m \u001b[38;5;28;01mtry\u001b[39;00m:\n\u001b[0;32m---> 41\u001b[0m     var_2 \u001b[38;5;241m=\u001b[39m \u001b[43mx\u001b[49m\u001b[38;5;241;43m/\u001b[39;49m\u001b[43my\u001b[49m\n\u001b[1;32m     42\u001b[0m     \u001b[38;5;28mprint\u001b[39m(var_2)\n",
      "\u001b[0;31mZeroDivisionError\u001b[0m: division by zero",
      "\nDuring handling of the above exception, another exception occurred:\n",
      "\u001b[0;31mZeroDivisionError\u001b[0m                         Traceback (most recent call last)",
      "Cell \u001b[0;32mIn[20], line 46\u001b[0m\n\u001b[1;32m     43\u001b[0m     \u001b[38;5;28;01mexcept\u001b[39;00m \u001b[38;5;167;01mZeroDivisionError\u001b[39;00m:\n\u001b[1;32m     44\u001b[0m         \u001b[38;5;28;01mraise\u001b[39;00m \u001b[38;5;167;01mZeroDivisionError\u001b[39;00m\n\u001b[0;32m---> 46\u001b[0m \u001b[43mdivide_3\u001b[49m\u001b[43m(\u001b[49m\u001b[38;5;241;43m10\u001b[39;49m\u001b[43m,\u001b[49m\u001b[38;5;241;43m0\u001b[39;49m\u001b[43m)\u001b[49m\n",
      "Cell \u001b[0;32mIn[20], line 44\u001b[0m, in \u001b[0;36mdivide_3\u001b[0;34m(x, y)\u001b[0m\n\u001b[1;32m     42\u001b[0m     \u001b[38;5;28mprint\u001b[39m(var_2)\n\u001b[1;32m     43\u001b[0m \u001b[38;5;28;01mexcept\u001b[39;00m \u001b[38;5;167;01mZeroDivisionError\u001b[39;00m:\n\u001b[0;32m---> 44\u001b[0m     \u001b[38;5;28;01mraise\u001b[39;00m \u001b[38;5;167;01mZeroDivisionError\u001b[39;00m\n",
      "\u001b[0;31mZeroDivisionError\u001b[0m: "
     ]
    }
   ],
   "source": [
    "#Question-4\n",
    "\"\"\"\n",
    "1) try and else:\n",
    "    The try block test a block of code for errors.\n",
    "    The else block execute code when try is successfully execute.\n",
    "\"\"\"\n",
    "# example\n",
    "def divide(x, y):\n",
    "    try:\n",
    "        result = x // y\n",
    "    except:\n",
    "        print(\"number can not be divisible by 0\")\n",
    "    else:\n",
    "        print(\"Your answer is :\", result)\n",
    "\n",
    "# calling divide\n",
    "divide(10,1)\n",
    "\n",
    "\"\"\"\n",
    "2) Finally: Finally block always gets executed either exception is generated or not.\n",
    "\"\"\"\n",
    "# Example\n",
    "def divide_1(x, y):\n",
    "    try:\n",
    "        result = x // y\n",
    "    except:\n",
    "        print(\"number can not be divisible by 0\")\n",
    "    else:\n",
    "        print(\"Your answer is :\", result)\n",
    "    finally: \n",
    "        print('finally its executed')  \n",
    " \n",
    "\n",
    "# calling divide_1\n",
    "divide_1(4, 2)\n",
    "\n",
    "\"\"\"\n",
    "3)The raise statement allows the programmer to force a specified exception to occur.\n",
    "\"\"\"\n",
    "# Example\n",
    "def divide_3(x,y):\n",
    "    try:\n",
    "        var_2 = x/y\n",
    "        print(var_2)\n",
    "    except ZeroDivisionError:\n",
    "        raise ZeroDivisionError\n",
    "\n",
    "# calling divide_3\n",
    "divide_3(10,0)"
   ]
  },
  {
   "cell_type": "code",
   "execution_count": 24,
   "id": "4e464047-19b0-4b8e-b3a5-f7e43d286a27",
   "metadata": {},
   "outputs": [
    {
     "name": "stdin",
     "output_type": "stream",
     "text": [
      "age 208\n"
     ]
    },
    {
     "ename": "TypeError",
     "evalue": "catching classes that do not inherit from BaseException is not allowed",
     "output_type": "error",
     "traceback": [
      "\u001b[0;31m---------------------------------------------------------------------------\u001b[0m",
      "\u001b[0;31mvalidateage\u001b[0m                               Traceback (most recent call last)",
      "Cell \u001b[0;32mIn[24], line 26\u001b[0m\n\u001b[1;32m     25\u001b[0m     age \u001b[38;5;241m=\u001b[39m \u001b[38;5;28mint\u001b[39m(\u001b[38;5;28minput\u001b[39m(\u001b[38;5;124m\"\u001b[39m\u001b[38;5;124mage\u001b[39m\u001b[38;5;124m\"\u001b[39m))\n\u001b[0;32m---> 26\u001b[0m     \u001b[43mvalidateage_1\u001b[49m\u001b[43m(\u001b[49m\u001b[43mage\u001b[49m\u001b[43m)\u001b[49m\n\u001b[1;32m     27\u001b[0m \u001b[38;5;28;01mexcept\u001b[39;00m validateage_1 \u001b[38;5;28;01mas\u001b[39;00m e:\n",
      "Cell \u001b[0;32mIn[24], line 20\u001b[0m, in \u001b[0;36mvalidateage_1\u001b[0;34m(age)\u001b[0m\n\u001b[1;32m     19\u001b[0m \u001b[38;5;28;01melif\u001b[39;00m age\u001b[38;5;241m>\u001b[39m\u001b[38;5;241m200\u001b[39m:\n\u001b[0;32m---> 20\u001b[0m     \u001b[38;5;28;01mraise\u001b[39;00m validateage(\u001b[38;5;124m\"\u001b[39m\u001b[38;5;124mhigh\u001b[39m\u001b[38;5;124m\"\u001b[39m)\n\u001b[1;32m     21\u001b[0m \u001b[38;5;28;01melse\u001b[39;00m:\n",
      "\u001b[0;31mvalidateage\u001b[0m: high",
      "\nDuring handling of the above exception, another exception occurred:\n",
      "\u001b[0;31mTypeError\u001b[0m                                 Traceback (most recent call last)",
      "Cell \u001b[0;32mIn[24], line 27\u001b[0m\n\u001b[1;32m     25\u001b[0m     age \u001b[38;5;241m=\u001b[39m \u001b[38;5;28mint\u001b[39m(\u001b[38;5;28minput\u001b[39m(\u001b[38;5;124m\"\u001b[39m\u001b[38;5;124mage\u001b[39m\u001b[38;5;124m\"\u001b[39m))\n\u001b[1;32m     26\u001b[0m     validateage_1(age)\n\u001b[0;32m---> 27\u001b[0m \u001b[38;5;28;01mexcept\u001b[39;00m validateage_1 \u001b[38;5;28;01mas\u001b[39;00m e:\n\u001b[1;32m     28\u001b[0m     \u001b[38;5;28mprint\u001b[39m(e)\n",
      "\u001b[0;31mTypeError\u001b[0m: catching classes that do not inherit from BaseException is not allowed"
     ]
    }
   ],
   "source": [
    "#Question-5\n",
    "\"\"\"\n",
    "Custom exceptions provide you the flexibility to add attributes and methods\n",
    "that are not part of a standard Python exception.\n",
    "\"\"\"\n",
    "\n",
    "\"\"\"\n",
    "Custom exceptions enhance the usability of a class.\n",
    "The Custom exceptions methods shows include inspecting an object and printing a useful error message.\n",
    "\"\"\"\n",
    "# Example\n",
    "class validateage(Exception):\n",
    "    def __init__(self,msg):\n",
    "        self.msg = msg\n",
    "        \n",
    "def validateage_1(age):\n",
    "    if age < 0:\n",
    "        raise validateage(\"negative\")\n",
    "    elif age>200:\n",
    "        raise validateage(\"high\")\n",
    "    else:\n",
    "        print(\"valid\")\n",
    "        \n",
    "try:\n",
    "    age = int(input(\"age\"))\n",
    "    validateage_1(age)\n",
    "except validateage_1 as e:\n",
    "    print(e)\n",
    "        \n"
   ]
  },
  {
   "cell_type": "code",
   "execution_count": null,
   "id": "a9b9afa1-04c6-4888-86a6-d8ca0404071e",
   "metadata": {},
   "outputs": [],
   "source": []
  }
 ],
 "metadata": {
  "kernelspec": {
   "display_name": "Python 3 (ipykernel)",
   "language": "python",
   "name": "python3"
  },
  "language_info": {
   "codemirror_mode": {
    "name": "ipython",
    "version": 3
   },
   "file_extension": ".py",
   "mimetype": "text/x-python",
   "name": "python",
   "nbconvert_exporter": "python",
   "pygments_lexer": "ipython3",
   "version": "3.10.8"
  }
 },
 "nbformat": 4,
 "nbformat_minor": 5
}
