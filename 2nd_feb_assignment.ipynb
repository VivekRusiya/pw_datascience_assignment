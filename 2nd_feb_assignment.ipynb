{
 "cells": [
  {
   "cell_type": "code",
   "execution_count": null,
   "id": "4421d50b-8912-421f-ad85-393b8cb8cb8c",
   "metadata": {},
   "outputs": [],
   "source": [
    "#Question-1\n",
    "\n",
    "The for loop is used when we already know the number of iterations.\n",
    "a = [1]\n",
    "for i in a:\n",
    "    print(i)\n",
    "\n",
    "When we need to end the loop on a condition other than the number of times, we use a while loop\n",
    "\n"
   ]
  },
  {
   "cell_type": "code",
   "execution_count": 7,
   "id": "d8074f9c-d501-46cc-be20-65f894f888fc",
   "metadata": {},
   "outputs": [
    {
     "name": "stdout",
     "output_type": "stream",
     "text": [
      "sum of first 10 natural number using for loop is : 55 \n",
      "product of first 10 natural number using for loop is: 3628800\n"
     ]
    }
   ],
   "source": [
    "#Question-2\n",
    "#using For loop\n",
    "sum = 0\n",
    "product = 1\n",
    "for i in range(1,11,1):\n",
    "    sum = sum + i\n",
    "    product = product * i\n",
    "print(\"sum of first 10 natural number using for loop is :\",sum,\"\\nproduct of first 10 natural number using for loop is:\",product)"
   ]
  },
  {
   "cell_type": "code",
   "execution_count": 10,
   "id": "e0c0ac8e-643a-4767-9193-70ed03e6ba7f",
   "metadata": {},
   "outputs": [
    {
     "name": "stdout",
     "output_type": "stream",
     "text": [
      "sum of first 10 natural number using while loop is : 55 \n",
      "product of first 10 natural number using while loop is : 3628800\n"
     ]
    }
   ],
   "source": [
    "#Question-2\n",
    "#using while loop\n",
    "sum = 0\n",
    "product = 1\n",
    "counter = 1\n",
    "while counter <= 10:\n",
    "    sum = sum + counter\n",
    "    product = product * counter\n",
    "    counter = counter + 1\n",
    "print(\"sum of first 10 natural number using while loop is :\",sum,\"\\nproduct of first 10 natural number using while loop is :\",product)"
   ]
  },
  {
   "cell_type": "code",
   "execution_count": 20,
   "id": "325aeb25-7832-4352-84a8-e23acee9e1d7",
   "metadata": {},
   "outputs": [
    {
     "name": "stdin",
     "output_type": "stream",
     "text": [
      "enter the units of electricity consumed in month 311\n"
     ]
    },
    {
     "name": "stdout",
     "output_type": "stream",
     "text": [
      "electricity bill is :  6220\n"
     ]
    }
   ],
   "source": [
    "#Question-3\n",
    "#using for loop\n",
    "electricity_consumed_unit = int(input(\"enter the units of electricity consumed in month\"))\n",
    "if electricity_consumed_unit <= 100:\n",
    "    charged_amount = 4.5 * electricity_consumed_unit\n",
    "elif electricity_consumed_unit > 100 and electricity_consumed_unit <= 200:\n",
    "    charged_amount = 6 * electricity_consumed_unit\n",
    "elif electricity_consumed_unit > 200 and electricity_consumed_unit <= 300:\n",
    "    charged_amount = 10 * electricity_consumed_unit\n",
    "elif electricity_consumed_unit > 300:\n",
    "    if electricity_consumed_unit == 310:\n",
    "        charged_amount = 2250\n",
    "    else:\n",
    "        charged_amount = 20 * electricity_consumed_unit\n",
    " \n",
    "print(\"electricity bill is : \", charged_amount) \n",
    "    "
   ]
  },
  {
   "cell_type": "code",
   "execution_count": 36,
   "id": "0cc07334-a74e-48dc-9e80-9d3d9546f342",
   "metadata": {},
   "outputs": [
    {
     "name": "stdout",
     "output_type": "stream",
     "text": [
      "cube of each number from the list only divisible by 4 or 5 is :\n",
      "[8, 64, 125, 216, 512, 1000, 1728, 2744, 3375, 4096, 5832, 8000, 10648, 13824, 15625, 17576, 21952, 27000, 32768, 39304, 42875, 46656, 54872, 64000, 74088, 85184, 91125, 97336, 110592, 125000, 140608, 157464, 166375, 175616, 195112, 216000, 238328, 262144, 274625, 287496, 314432, 343000, 373248, 405224, 421875, 438976, 474552, 512000, 551368, 592704, 614125, 636056, 681472, 729000, 778688, 830584, 857375, 884736, 941192, 1000000]\n"
     ]
    }
   ],
   "source": [
    "#Question-4\n",
    "#using for loop\n",
    "list = []\n",
    "list_1 = []\n",
    "for i in range(1,101):\n",
    "    list.append(i)\n",
    "# print(list)\n",
    "print(\"cube of each number from the list only divisible by 4 or 5 is :\")\n",
    "for i in range(len(list)):\n",
    "    cube = list[i] ** 3\n",
    "    if cube%4 == 0 or cube%5 == 0:\n",
    "        list_1.append(cube)\n",
    "print(list_1)\n",
    "\n",
    "    "
   ]
  },
  {
   "cell_type": "code",
   "execution_count": 41,
   "id": "a4ff4db0-d47d-49ca-a075-8b420ba2de57",
   "metadata": {},
   "outputs": [
    {
     "name": "stdout",
     "output_type": "stream",
     "text": [
      "totel vowel in given string is: 12\n"
     ]
    }
   ],
   "source": [
    "#Question-5\n",
    "string = \"I want to become a data scientist\"\n",
    "count = 0\n",
    "vowel = 'aeiou'\n",
    "for char in string.lower():\n",
    "    if char in vowel:\n",
    "        count = count + 1\n",
    "print(\"totel vowel in given string is:\",count)\n",
    "        "
   ]
  },
  {
   "cell_type": "code",
   "execution_count": null,
   "id": "76fc7ce8-93d6-484b-a7d7-2bbd2df66396",
   "metadata": {},
   "outputs": [],
   "source": []
  }
 ],
 "metadata": {
  "kernelspec": {
   "display_name": "Python 3 (ipykernel)",
   "language": "python",
   "name": "python3"
  },
  "language_info": {
   "codemirror_mode": {
    "name": "ipython",
    "version": 3
   },
   "file_extension": ".py",
   "mimetype": "text/x-python",
   "name": "python",
   "nbconvert_exporter": "python",
   "pygments_lexer": "ipython3",
   "version": "3.10.8"
  }
 },
 "nbformat": 4,
 "nbformat_minor": 5
}
