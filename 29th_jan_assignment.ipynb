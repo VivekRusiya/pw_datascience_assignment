{
 "cells": [
  {
   "cell_type": "code",
   "execution_count": null,
   "id": "af1916e3-fd15-481a-9aad-c3c12dcba919",
   "metadata": {},
   "outputs": [],
   "source": [
    "#Question-1\n",
    "Guido van Rossum"
   ]
  },
  {
   "cell_type": "code",
   "execution_count": null,
   "id": "225ec259-a6ed-44bd-90a1-dfe112ef1167",
   "metadata": {},
   "outputs": [],
   "source": [
    "#Question-2\n",
    "Object-oriented programming and structured programming are fully supported by python"
   ]
  },
  {
   "cell_type": "code",
   "execution_count": null,
   "id": "3a0caaf7-94c1-45c4-a841-3e86dede7229",
   "metadata": {},
   "outputs": [],
   "source": [
    "#Question-3\n",
    "Yes, Python is a case-sensitive language"
   ]
  },
  {
   "cell_type": "code",
   "execution_count": null,
   "id": "356c28ed-c26b-46db-8aed-d7de0d3a7505",
   "metadata": {},
   "outputs": [],
   "source": [
    "#Question-4\n",
    ".py"
   ]
  },
  {
   "cell_type": "code",
   "execution_count": null,
   "id": "67b51ceb-f599-406b-83a4-4a7fcba15619",
   "metadata": {},
   "outputs": [],
   "source": [
    "#Question-5\n",
    "Python is an interpreted language"
   ]
  },
  {
   "cell_type": "code",
   "execution_count": null,
   "id": "93875609-da07-466a-a352-b48e11de15dd",
   "metadata": {},
   "outputs": [],
   "source": [
    "#Question-6\n",
    "if-else, while"
   ]
  },
  {
   "cell_type": "code",
   "execution_count": null,
   "id": "74b9b20a-e811-46b6-a715-63f3622304eb",
   "metadata": {},
   "outputs": [],
   "source": [
    "#Question-7\n",
    "we use # for single line comment"
   ]
  },
  {
   "cell_type": "code",
   "execution_count": null,
   "id": "c00d97b3-e7f5-4a14-9cf3-faa3b4a48926",
   "metadata": {},
   "outputs": [],
   "source": [
    "#Question-8\n",
    "python_version() "
   ]
  },
  {
   "cell_type": "code",
   "execution_count": null,
   "id": "fe248937-ad0f-453c-a554-e7a3754859e1",
   "metadata": {},
   "outputs": [],
   "source": [
    "#Question-9\n",
    "lambda"
   ]
  },
  {
   "cell_type": "code",
   "execution_count": null,
   "id": "7bd6e4dd-ee89-4fc7-aae6-6f13975c0fe9",
   "metadata": {},
   "outputs": [],
   "source": [
    "#Question-10\n",
    "pip : preferred installer program"
   ]
  },
  {
   "cell_type": "code",
   "execution_count": null,
   "id": "ed206ff9-10de-4baa-90af-6b8ea7f8eabb",
   "metadata": {},
   "outputs": [],
   "source": [
    "#Question-11\n",
    "min(), max(), range(), sum(), type()"
   ]
  },
  {
   "cell_type": "code",
   "execution_count": null,
   "id": "4619e395-8f02-44a9-9ee1-b2d61aa4b528",
   "metadata": {},
   "outputs": [],
   "source": [
    "#Question-12\n",
    "79 characters"
   ]
  },
  {
   "cell_type": "code",
   "execution_count": null,
   "id": "94fe58e5-3984-47d3-962f-9d85eae578a1",
   "metadata": {},
   "outputs": [],
   "source": [
    "#Question-13\n",
    "Simple to Use and Understand\n",
    "Free and Open-Source.\n",
    "Interpreted Language.\n",
    "Extensive library.\n",
    "Dynamically Typed.\n",
    "Portability."
   ]
  },
  {
   "cell_type": "code",
   "execution_count": null,
   "id": "8363a824-f9cf-4bf2-93d6-286a11c874d7",
   "metadata": {},
   "outputs": [],
   "source": [
    "#Question-14\n",
    "Memory in Python is managed by Python private heap space.\n",
    "All Python objects and data structures are located in a private heap.\n",
    "This private heap is taken care of by Python Interpreter itself"
   ]
  },
  {
   "cell_type": "code",
   "execution_count": null,
   "id": "a2dc21fe-0ee2-4825-b5df-79da36d6fbf6",
   "metadata": {},
   "outputs": [],
   "source": [
    "#Question-16\n",
    "yes indentation is required in python"
   ]
  }
 ],
 "metadata": {
  "kernelspec": {
   "display_name": "Python 3 (ipykernel)",
   "language": "python",
   "name": "python3"
  },
  "language_info": {
   "codemirror_mode": {
    "name": "ipython",
    "version": 3
   },
   "file_extension": ".py",
   "mimetype": "text/x-python",
   "name": "python",
   "nbconvert_exporter": "python",
   "pygments_lexer": "ipython3",
   "version": "3.10.8"
  }
 },
 "nbformat": 4,
 "nbformat_minor": 5
}
