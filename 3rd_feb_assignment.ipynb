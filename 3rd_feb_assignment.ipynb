{
 "cells": [
  {
   "cell_type": "code",
   "execution_count": 20,
   "id": "7a9b1d4a-86ef-4cf8-9670-1b117bdf8e44",
   "metadata": {},
   "outputs": [
    {
     "name": "stdout",
     "output_type": "stream",
     "text": [
      "[1, 3, 5, 7, 9, 11, 13, 15, 17, 19, 21, 23, 25]\n"
     ]
    }
   ],
   "source": [
    "#Question-1\n",
    "#def keyword is use to create function\n",
    "\n",
    "def odd_number(n):\n",
    "    list = []\n",
    "    for i in range(1,n+1):\n",
    "        if i%2 != 0:\n",
    "            list.append(i)\n",
    "    print(list)\n",
    "odd_number(25)            "
   ]
  },
  {
   "cell_type": "code",
   "execution_count": 10,
   "id": "c117a418-2289-4a6f-a8d0-8f4447b011ee",
   "metadata": {},
   "outputs": [
    {
     "name": "stdout",
     "output_type": "stream",
     "text": [
      "name : vivek\n",
      "skills : ['python', 'sql']\n"
     ]
    }
   ],
   "source": [
    "#Question-2\n",
    "# *args- *args passes variable number of non-keyworded arguments and on which operation of the tuple can be performed \n",
    "def args_def(*args):\n",
    "    sum = 0    \n",
    "    for i in args:\n",
    "        sum = sum + i\n",
    "    print(\"Sum:\",sum)\n",
    "\n",
    "#calling args_def\n",
    "# args_def(3,4)\n",
    "\n",
    "# **kwargs - passes variable number of keyword arguments dictionary to function on which operation of a dictionary can be performed.\n",
    "\n",
    "def kwargs_def(**kwargs):\n",
    "    for key, value in kwargs.items():\n",
    "        print(key,\":\",value)\n",
    "        \n",
    "#calling kwargs_def\n",
    "kwargs_def(name='vivek',skills=['python','sql'])"
   ]
  },
  {
   "cell_type": "code",
   "execution_count": 2,
   "id": "7acc3cab-58d4-4005-8fc9-e500d090e1b9",
   "metadata": {},
   "outputs": [
    {
     "name": "stdout",
     "output_type": "stream",
     "text": [
      "0\n",
      "1\n",
      "1\n",
      "2\n",
      "3\n",
      "5\n",
      "8\n",
      "13\n",
      "21\n",
      "34\n"
     ]
    }
   ],
   "source": [
    "#Question-4\n",
    "\"\"\"a generator is a function that returns an iterator that produces a sequence of values when iterated over.\n",
    "Generators are useful when we want to produce a large sequence of values,\n",
    "but we don't want to store all of them in memory at once\"\"\"\n",
    "\n",
    "#Yeild keyword is used to produce a value from the generator. instead of return we use yeild\n",
    "\n",
    "def febonacci(number):\n",
    "    a,b = 0,1\n",
    "    for i in range(number):\n",
    "        yield a\n",
    "        a,b = b, a+b\n",
    "\n",
    "for i in febonacci(10):\n",
    "    print(i)"
   ]
  },
  {
   "cell_type": "code",
   "execution_count": 21,
   "id": "50e3ae0f-84f5-4bac-9878-7e26b3ba7511",
   "metadata": {},
   "outputs": [
    {
     "name": "stdout",
     "output_type": "stream",
     "text": [
      "2\n",
      "3\n",
      "5\n",
      "7\n",
      "11\n",
      "13\n",
      "17\n",
      "19\n",
      "23\n",
      "29\n",
      "31\n",
      "37\n",
      "41\n",
      "43\n",
      "47\n",
      "53\n",
      "59\n",
      "61\n",
      "67\n",
      "71\n",
      "73\n",
      "79\n",
      "83\n",
      "89\n",
      "97\n",
      "101\n",
      "103\n",
      "107\n",
      "109\n",
      "113\n",
      "127\n",
      "131\n",
      "137\n",
      "139\n",
      "149\n",
      "151\n",
      "157\n",
      "163\n",
      "167\n",
      "173\n",
      "179\n",
      "181\n",
      "191\n",
      "193\n",
      "197\n",
      "199\n",
      "211\n",
      "223\n",
      "227\n",
      "229\n",
      "233\n",
      "239\n",
      "241\n",
      "251\n",
      "257\n",
      "263\n",
      "269\n",
      "271\n",
      "277\n",
      "281\n",
      "283\n",
      "293\n",
      "307\n",
      "311\n",
      "313\n",
      "317\n",
      "331\n",
      "337\n",
      "347\n",
      "349\n",
      "353\n",
      "359\n",
      "367\n",
      "373\n",
      "379\n",
      "383\n",
      "389\n",
      "397\n",
      "401\n",
      "409\n",
      "419\n",
      "421\n",
      "431\n",
      "433\n",
      "439\n",
      "443\n",
      "449\n",
      "457\n",
      "461\n",
      "463\n",
      "467\n",
      "479\n",
      "487\n",
      "491\n",
      "499\n",
      "503\n",
      "509\n",
      "521\n",
      "523\n",
      "541\n",
      "547\n",
      "557\n",
      "563\n",
      "569\n",
      "571\n",
      "577\n",
      "587\n",
      "593\n",
      "599\n",
      "601\n",
      "607\n",
      "613\n",
      "617\n",
      "619\n",
      "631\n",
      "641\n",
      "643\n",
      "647\n",
      "653\n",
      "659\n",
      "661\n",
      "673\n",
      "677\n",
      "683\n",
      "691\n",
      "701\n",
      "709\n",
      "719\n",
      "727\n",
      "733\n",
      "739\n",
      "743\n",
      "751\n",
      "757\n",
      "761\n",
      "769\n",
      "773\n",
      "787\n",
      "797\n",
      "809\n",
      "811\n",
      "821\n",
      "823\n",
      "827\n",
      "829\n",
      "839\n",
      "853\n",
      "857\n",
      "859\n",
      "863\n",
      "877\n",
      "881\n",
      "883\n",
      "887\n",
      "907\n",
      "911\n",
      "919\n",
      "929\n",
      "937\n",
      "941\n",
      "947\n",
      "953\n",
      "967\n",
      "971\n",
      "977\n",
      "983\n",
      "991\n",
      "997\n"
     ]
    }
   ],
   "source": [
    "#Question-5\n",
    "def prime(number):\n",
    "    for i in range(2, number):\n",
    "        if number%i == 0 :\n",
    "            return False\n",
    "    return True\n",
    "        \n",
    "for i in range(2, 1000):\n",
    "    if(prime(i)):\n",
    "        print(i)\n",
    "    \n",
    "    \n",
    "   \n",
    "# for i in range(1,20):\n",
    "#     print(prime.next())"
   ]
  },
  {
   "cell_type": "code",
   "execution_count": 26,
   "id": "af04a609-cea2-42fe-aa02-ceea82361a13",
   "metadata": {},
   "outputs": [
    {
     "name": "stdout",
     "output_type": "stream",
     "text": [
      "0\n",
      "1\n",
      "1\n",
      "2\n",
      "3\n",
      "5\n",
      "8\n",
      "13\n",
      "21\n",
      "34\n",
      "55\n"
     ]
    }
   ],
   "source": [
    "#Question-6\n",
    "\n",
    "num_1 = 0\n",
    "num_2 = 1\n",
    "counter = 0\n",
    "while counter <= 10:\n",
    "    print(num_1)\n",
    "    new_num = num_1 + num_2   \n",
    "    num_1 = num_2\n",
    "    num_2 = new_num\n",
    "    counter = counter +1   "
   ]
  },
  {
   "cell_type": "code",
   "execution_count": 27,
   "id": "34c5cb31-6ebb-44e5-a732-2ee2531251be",
   "metadata": {},
   "outputs": [
    {
     "data": {
      "text/plain": [
       "['p', 'w', 's', 'k', 'i', 'l', 'l', 's']"
      ]
     },
     "execution_count": 27,
     "metadata": {},
     "output_type": "execute_result"
    }
   ],
   "source": [
    "# Question-7\n",
    "string = 'pwskills'\n",
    "[i for i in string]"
   ]
  },
  {
   "cell_type": "code",
   "execution_count": 35,
   "id": "2b5dbfb5-29ab-4354-8318-f79cdae65d0a",
   "metadata": {},
   "outputs": [
    {
     "name": "stdin",
     "output_type": "stream",
     "text": [
      "enter number to check palindrom 121\n"
     ]
    },
    {
     "name": "stdout",
     "output_type": "stream",
     "text": [
      "The number 0 is palindrome\n"
     ]
    }
   ],
   "source": [
    "#Question-8\n",
    "number = int(input(\"enter number to check palindrom\"))\n",
    "reverse = 0\n",
    "temp = number\n",
    "while number > 0:\n",
    "    digit = number%10\n",
    "    reverse = reverse*10 + digit\n",
    "    number = number//10\n",
    "if(temp==reverse):\n",
    "    print(\"The number is palindrome\")\n",
    "else:\n",
    "    print(\"Number is Not a palindrome\")"
   ]
  },
  {
   "cell_type": "code",
   "execution_count": 56,
   "id": "e4e2d8cb-03b0-40e1-9e35-b3713cb8a2a7",
   "metadata": {},
   "outputs": [
    {
     "name": "stdout",
     "output_type": "stream",
     "text": [
      "[1, 3, 5, 7, 9, 11, 13, 15, 17, 19, 21, 23, 25, 27, 29, 31, 33, 35, 37, 39, 41, 43, 45, 47, 49, 51, 53, 55, 57, 59, 61, 63, 65, 67, 69, 71, 73, 75, 77, 79, 81, 83, 85, 87, 89, 91, 93, 95, 97, 99]\n"
     ]
    }
   ],
   "source": [
    "#Question-9\n",
    "list = [i for i in range(1,101)]\n",
    "odd_number = [odd for odd in range(1,len(list),2)]\n",
    "print(odd_number)\n"
   ]
  }
 ],
 "metadata": {
  "kernelspec": {
   "display_name": "Python 3 (ipykernel)",
   "language": "python",
   "name": "python3"
  },
  "language_info": {
   "codemirror_mode": {
    "name": "ipython",
    "version": 3
   },
   "file_extension": ".py",
   "mimetype": "text/x-python",
   "name": "python",
   "nbconvert_exporter": "python",
   "pygments_lexer": "ipython3",
   "version": "3.10.8"
  }
 },
 "nbformat": 4,
 "nbformat_minor": 5
}
