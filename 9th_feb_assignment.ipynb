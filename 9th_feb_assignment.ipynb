{
 "cells": [
  {
   "cell_type": "code",
   "execution_count": 2,
   "id": "62147ed6-0e0d-4065-9b05-c9206f56c10f",
   "metadata": {},
   "outputs": [],
   "source": [
    "#Question-1\n",
    "class vehicle:\n",
    "    def __init__(self, name_of_vehicle, max_speed, average_of_vehicle):\n",
    "        self.name_of_vehicle = name_of_vehicle\n",
    "        self.max_speed = max_speed\n",
    "        self.average_of_vehicle = average_of_vehicle"
   ]
  },
  {
   "cell_type": "code",
   "execution_count": 35,
   "id": "08a9b47c-ec22-4494-8bc1-a2295250f318",
   "metadata": {},
   "outputs": [],
   "source": [
    "#Question-2\n",
    "class vehicle:\n",
    "    def __init__(self, name_of_vehicle, max_speed, average_of_vehicle):\n",
    "        self.name_of_vehicle = name_of_vehicle\n",
    "        self.max_speed = max_speed\n",
    "        self.average_of_vehicle = average_of_vehicle\n",
    "        \n",
    "class car(vehicle):\n",
    "    def __init__(self, name_of_vehicle, max_speed, average_of_vehicle):\n",
    "        super().__init__(name_of_vehicle, max_speed, average_of_vehicle)\n",
    "        \n",
    "    def seating_capacity(self, capacity):\n",
    "        print(self.name_of_vehicle,\" car has\",capacity,\" seating capacity\") "
   ]
  },
  {
   "cell_type": "code",
   "execution_count": 36,
   "id": "e1c3939d-0d54-492c-8eb4-fd7b15a1b8e9",
   "metadata": {},
   "outputs": [
    {
     "name": "stdout",
     "output_type": "stream",
     "text": [
      "toyoto  car has 5  seating capacity\n"
     ]
    }
   ],
   "source": [
    "car_obj = car(\"toyoto\",200,25)\n",
    "car_obj.seating_capacity(5)"
   ]
  },
  {
   "cell_type": "code",
   "execution_count": 33,
   "id": "f3496b54-8e63-4102-815e-b4b79f75f753",
   "metadata": {},
   "outputs": [
    {
     "name": "stdout",
     "output_type": "stream",
     "text": [
      "In Class2\n"
     ]
    }
   ],
   "source": [
    "#Question-3\n",
    "\"\"\"\n",
    "When a class is derived from more than one base class it is called multiple Inheritance.\n",
    "The derived class inherits all the features of the base case.\n",
    "\"\"\"\n",
    "\n",
    "class Class1:\n",
    "\tdef m(self):\n",
    "\t\tprint(\"In Class1\")\n",
    "\t\n",
    "class Class2(Class1):\n",
    "\tdef m(self):\n",
    "\t\tprint(\"In Class2\")\n",
    "\n",
    "class Class3(Class1):\n",
    "\tdef m(self):\n",
    "\t\tprint(\"In Class3\")\n",
    "\t\t\n",
    "class Class4(Class2, Class3):\n",
    "\tpass\n",
    "\t\n",
    "obj = Class4()\n",
    "obj.m()\n"
   ]
  },
  {
   "cell_type": "code",
   "execution_count": 1,
   "id": "212d3e14-957f-4cc2-bd15-59a89ebb27ff",
   "metadata": {},
   "outputs": [],
   "source": [
    "\n",
    "# Question-4\n",
    "\"\"\"\n",
    "Getter: A method that allows you to access private or protected attribute in a given class\n",
    "Setter: A method that allows you to set or mutate the value of private or protected attribute in a class\n",
    "\"\"\"\n",
    "class pwskills:\n",
    "    def __init__(self, course_price,course_name):\n",
    "        self.__course_price = course_price\n",
    "        self.course_name = course_name\n",
    "    \n",
    "    @property\n",
    "    def course_price_access(self):\n",
    "        return self.__course_price\n",
    "    \n",
    "    @course_price_access.setter\n",
    "    def course_price_set(self,price):\n",
    "        if price <= 3500:\n",
    "            pass\n",
    "        else:\n",
    "            self.__course_price = price\n"
   ]
  },
  {
   "cell_type": "code",
   "execution_count": 34,
   "id": "0952c389-84bd-4654-a9ac-e7a5f78edd5e",
   "metadata": {},
   "outputs": [
    {
     "name": "stdout",
     "output_type": "stream",
     "text": [
      "Inside Parent\n",
      "Inside Child\n"
     ]
    }
   ],
   "source": [
    "#Question-5\n",
    "\"\"\"\n",
    "Method overriding is an ability of any object-oriented programming language that\n",
    "allows a subclass or child class to provide a specific implementation of a method that\n",
    "is already provided by one of its super-classes or parent classes.\"\"\"\n",
    "\n",
    "# Python program to demonstrate method overriding\n",
    "class Parent():\n",
    "\tdef __init__(self):\n",
    "\t\tself.value = \"Inside Parent\"\n",
    "\t\t\n",
    "\tdef show(self):\n",
    "\t\tprint(self.value)\n",
    "\t\t\n",
    "# Defining child class\n",
    "class Child(Parent):\n",
    "\tdef __init__(self):\n",
    "\t\tself.value = \"Inside Child\"\t\t\n",
    "\n",
    "\tdef show(self):\n",
    "\t\tprint(self.value)\n",
    "        \n",
    "        \n",
    "\t\t\n",
    "obj1 = Parent()\n",
    "obj2 = Child()\n",
    "\n",
    "obj1.show()\n",
    "obj2.show()\n"
   ]
  }
 ],
 "metadata": {
  "kernelspec": {
   "display_name": "Python 3 (ipykernel)",
   "language": "python",
   "name": "python3"
  },
  "language_info": {
   "codemirror_mode": {
    "name": "ipython",
    "version": 3
   },
   "file_extension": ".py",
   "mimetype": "text/x-python",
   "name": "python",
   "nbconvert_exporter": "python",
   "pygments_lexer": "ipython3",
   "version": "3.10.8"
  }
 },
 "nbformat": 4,
 "nbformat_minor": 5
}
