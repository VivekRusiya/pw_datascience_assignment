{
 "cells": [
  {
   "cell_type": "code",
   "execution_count": 7,
   "id": "67fda21b-6085-46a0-9cc8-fc2979a3a8a6",
   "metadata": {},
   "outputs": [
    {
     "name": "stdout",
     "output_type": "stream",
     "text": [
      "trianle has 3 sides\n",
      "rectangle has 4 sides\n",
      "Hexagon has 6 sides\n"
     ]
    }
   ],
   "source": [
    "#Question-1\n",
    "\"\"\"a process of handling complexity by hiding unnecessary information from the user is called abstraction.\n",
    "Abstraction provides a programmer to hide all the irrelevant data/process of an application\n",
    "in order to reduce complexity and increase the efficiency of the program\"\"\"\n",
    "\n",
    "#example\n",
    "from abc import ABC\n",
    "class polygon(ABC):\n",
    "    def sides(self):\n",
    "        pass\n",
    "\n",
    "class triangle(polygon):\n",
    "    def sides(self):\n",
    "        print(\"trianle has 3 sides\")\n",
    "    \n",
    "class rectangle(polygon):\n",
    "    def sides(self):\n",
    "        print(\"rectangle has 4 sides\")\n",
    "    \n",
    "class Hexagon(polygon):\n",
    "    def sides(self):\n",
    "        print(\"Hexagon has 6 sides\")   \n",
    "    \n",
    "tri = triangle()\n",
    "tri.sides()\n",
    "\n",
    "rect = rectangle()\n",
    "rect.sides()\n",
    "\n",
    "hex = Hexagon()\n",
    "hex.sides()"
   ]
  },
  {
   "cell_type": "code",
   "execution_count": 15,
   "id": "2bc33057-ab4e-47ee-a504-b1ade52c5e36",
   "metadata": {},
   "outputs": [
    {
     "data": {
      "text/plain": [
       "'\\nAbstraction is concerned about what a class instance can do, instead of the implementation of the class.\\nEncapsulation helps in data binding and control over maintaining the transparency of the data.\\n'"
      ]
     },
     "execution_count": 15,
     "metadata": {},
     "output_type": "execute_result"
    }
   ],
   "source": [
    "#Question-2\n",
    "\"\"\"Abstraction is hiding the details and implementation of the code.\n",
    "Encapsulation is hiding the data and controlling the visibility of the code.\"\"\"\n",
    "#----------------\n",
    "\"\"\"Abstraction is a design level process.\n",
    "Encapsulation is an implementation level process.\"\"\"\n",
    "# ---------------\n",
    "\"\"\"\n",
    "Abstraction is concerned about what a class instance can do, instead of the implementation of the class.\n",
    "Encapsulation helps in data binding and control over maintaining the transparency of the data.\n",
    "\"\"\""
   ]
  },
  {
   "cell_type": "code",
   "execution_count": 16,
   "id": "2dc2423e-5020-4057-9d98-82022923d0c7",
   "metadata": {},
   "outputs": [
    {
     "data": {
      "text/plain": [
       "\"\\n The abc module in Python library provides the infrastructure for defining custom abstract base classes.\\n 'abc' works by marking methods of the base class as abstract. This is done by @absttractmethod decorator\\n \""
      ]
     },
     "execution_count": 16,
     "metadata": {},
     "output_type": "execute_result"
    }
   ],
   "source": [
    "#Question-3\n",
    "\"\"\"\n",
    " The abc module in Python library provides the infrastructure for defining custom abstract base classes.\n",
    " 'abc' works by marking methods of the base class as abstract. This is done by @absttractmethod decorator\n",
    " \"\"\""
   ]
  },
  {
   "cell_type": "code",
   "execution_count": 19,
   "id": "43bc94df-540f-48a3-ba0f-962ccfd74efc",
   "metadata": {},
   "outputs": [
    {
     "name": "stdout",
     "output_type": "stream",
     "text": [
      "I am going to sleep in a while\n",
      "I can meow\n",
      "I can hiss\n"
     ]
    }
   ],
   "source": [
    "#Question-4\n",
    "\"\"\"\n",
    "Data Abstraction in Python can be achieved through creating abstract classes and inheriting them later.\n",
    "\"\"\"\n",
    "#example\n",
    "from abc import ABC,abstractmethod\n",
    " \n",
    "class Animal(ABC):\n",
    "    def sleep(self):\n",
    "        print(\"I am going to sleep in a while\")\n",
    " \n",
    "    @abstractmethod\n",
    "    def sound(self):\n",
    "        print(\"This function is for defining the sound by any animal\")\n",
    "        \n",
    "class snake(Animal):\n",
    "    def sound(self):\n",
    "        print(\"I can hiss\")\n",
    "        \n",
    "class Cat(Animal):\n",
    "    def sound(self):\n",
    "        print(\"I can meow\")\n",
    "        \n",
    "        \n",
    "#creating objects        \n",
    "        \n",
    "c = Cat()\n",
    "c.sleep()\n",
    "c.sound()\n",
    " \n",
    "c = snake()\n",
    "c.sound()\n"
   ]
  },
  {
   "cell_type": "code",
   "execution_count": null,
   "id": "0de5808b-f5ed-4b92-9f43-1d6646d0738e",
   "metadata": {},
   "outputs": [],
   "source": []
  }
 ],
 "metadata": {
  "kernelspec": {
   "display_name": "Python 3 (ipykernel)",
   "language": "python",
   "name": "python3"
  },
  "language_info": {
   "codemirror_mode": {
    "name": "ipython",
    "version": 3
   },
   "file_extension": ".py",
   "mimetype": "text/x-python",
   "name": "python",
   "nbconvert_exporter": "python",
   "pygments_lexer": "ipython3",
   "version": "3.10.8"
  }
 },
 "nbformat": 4,
 "nbformat_minor": 5
}
