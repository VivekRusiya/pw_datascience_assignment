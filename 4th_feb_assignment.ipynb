{
 "cells": [
  {
   "cell_type": "code",
   "execution_count": 16,
   "id": "7d8c6a2d-866f-4cd8-954d-e1aece986ffb",
   "metadata": {},
   "outputs": [
    {
     "data": {
      "text/plain": [
       "[('Virat Kohli', 24936),\n",
       " ('Jack Kallis', 25534),\n",
       " ('Ricky Ponting', 27483),\n",
       " ('Sachin Tendulkar', 34357)]"
      ]
     },
     "execution_count": 16,
     "metadata": {},
     "output_type": "execute_result"
    }
   ],
   "source": [
    "#Question-1\n",
    "list_of_tuple = [('Sachin Tendulkar', 34357), ('Ricky Ponting', 27483), \n",
    "                 ('Jack Kallis', 25534), ('Virat Kohli', 24936)]\n",
    "\n",
    "def Sort_Tuple(list_of_tuple):\n",
    "    sort = sorted(list_of_tuple, key = lambda x : x[1])\n",
    "    return sort\n",
    "\n",
    "Sort_Tuple(list_of_tuple)"
   ]
  },
  {
   "cell_type": "code",
   "execution_count": 20,
   "id": "f549eb46-f147-4d77-a77a-c259a5db361b",
   "metadata": {},
   "outputs": [
    {
     "data": {
      "text/plain": [
       "[1, 4, 9, 16, 25, 36, 49, 64, 81, 100]"
      ]
     },
     "execution_count": 20,
     "metadata": {},
     "output_type": "execute_result"
    }
   ],
   "source": [
    "#Question-2\n",
    "#using lambda\n",
    "list_1 = [1, 2, 3, 4, 5, 6, 7, 8, 9, 10]\n",
    "square = lambda x : x**2\n",
    "\n",
    "for i in range(len(list_1)):\n",
    "    print(square(list_1[i]))\n",
    "    \n",
    "# #using map\n",
    "list(map(lambda x:x**2, list_1))\n",
    "    "
   ]
  },
  {
   "cell_type": "code",
   "execution_count": 29,
   "id": "7a054e86-67bf-456b-b86e-1b7b132aa532",
   "metadata": {},
   "outputs": [
    {
     "name": "stdout",
     "output_type": "stream",
     "text": [
      "('1', '2', '3', '4', '5', '6', '7', '8', '9', '10')\n"
     ]
    }
   ],
   "source": [
    "#Question-3\n",
    "#using map\n",
    "list = [1, 2, 3, 4, 5, 6, 7, 8, 9, 10]\n",
    "list_string = map(str, list)\n",
    "print(tuple(list_string))\n",
    "\n",
    "\n",
    "#using lambda\n"
   ]
  },
  {
   "cell_type": "code",
   "execution_count": 50,
   "id": "169d57e7-6f9c-4546-acd2-80150498daa3",
   "metadata": {},
   "outputs": [
    {
     "data": {
      "text/plain": [
       "15511210043330985984000000"
      ]
     },
     "execution_count": 50,
     "metadata": {},
     "output_type": "execute_result"
    }
   ],
   "source": [
    "#Question-4\n",
    "from functools import reduce\n",
    "list = []\n",
    "for i in range(1,26):\n",
    "    list.append(i)\n",
    "reduce(lambda x, y : x*y, list)\n"
   ]
  },
  {
   "cell_type": "code",
   "execution_count": 11,
   "id": "aaf241a9-44d9-4b9f-bdd6-747f46eca1ac",
   "metadata": {},
   "outputs": [
    {
     "name": "stdout",
     "output_type": "stream",
     "text": [
      "[6, 60, 90, 120]\n"
     ]
    }
   ],
   "source": [
    "#Question-5\n",
    "l1 = [2, 3, 6, 9, 27, 60, 90, 120, 55, 46]\n",
    "result = list(filter(lambda x: (x % 2 == 0 and x%3 == 0), l1))\n",
    "print(str(result))\n",
    "\n"
   ]
  },
  {
   "cell_type": "code",
   "execution_count": null,
   "id": "651e8a6c-4ee0-4907-9250-d055a57cdd94",
   "metadata": {},
   "outputs": [],
   "source": [
    "#Question-6\n",
    "l2 = ['python', 'php', 'aba', 'radar', 'level']\n",
    "out = list(filter(lambda x: (x == \"\".join(reversed(x))), l2))\n",
    "print(str(out))"
   ]
  }
 ],
 "metadata": {
  "kernelspec": {
   "display_name": "Python 3 (ipykernel)",
   "language": "python",
   "name": "python3"
  },
  "language_info": {
   "codemirror_mode": {
    "name": "ipython",
    "version": 3
   },
   "file_extension": ".py",
   "mimetype": "text/x-python",
   "name": "python",
   "nbconvert_exporter": "python",
   "pygments_lexer": "ipython3",
   "version": "3.10.8"
  }
 },
 "nbformat": 4,
 "nbformat_minor": 5
}
